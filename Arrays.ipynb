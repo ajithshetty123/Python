{
 "cells": [
  {
   "cell_type": "markdown",
   "id": "523b0518",
   "metadata": {},
   "source": [
    "### Largest element in an array"
   ]
  },
  {
   "cell_type": "code",
   "execution_count": 1,
   "id": "c8d51969",
   "metadata": {},
   "outputs": [
    {
     "name": "stdout",
     "output_type": "stream",
     "text": [
      "12\n"
     ]
    }
   ],
   "source": [
    "nums = [10,5,12,4,1,8]\n",
    "\n",
    "largest = nums[0]\n",
    "for i in range(len(nums)):\n",
    "    if nums[i]>largest:\n",
    "        largest = nums[i]\n",
    "print(largest)"
   ]
  },
  {
   "cell_type": "markdown",
   "id": "d2df9241",
   "metadata": {},
   "source": [
    "### Second largest in an array"
   ]
  },
  {
   "cell_type": "code",
   "execution_count": 2,
   "id": "61664711",
   "metadata": {},
   "outputs": [
    {
     "name": "stdout",
     "output_type": "stream",
     "text": [
      "11\n"
     ]
    }
   ],
   "source": [
    "nums = [10,5,12,4,1,8,11,11]\n",
    "\n",
    "largest = nums[0]\n",
    "for i in range(len(nums)):\n",
    "    if nums[i]>largest:\n",
    "        largest = nums[i]\n",
    "second_largest = -1\n",
    "for i in range(len(nums)):\n",
    "    if nums[i]>second_largest and nums[i]!=largest:\n",
    "        second_largest = nums[i]\n",
    "print(second_largest)"
   ]
  },
  {
   "cell_type": "markdown",
   "id": "b0f19110",
   "metadata": {},
   "source": [
    "### Check if array is sorted or not"
   ]
  },
  {
   "cell_type": "code",
   "execution_count": 3,
   "id": "c8b6f8cf",
   "metadata": {},
   "outputs": [
    {
     "name": "stdout",
     "output_type": "stream",
     "text": [
      "Not Sorted\n"
     ]
    }
   ],
   "source": [
    "nums = [2,1,3,4]\n",
    "for i in range(1,len(nums)):\n",
    "    if nums[i]>nums[i-1]:\n",
    "        flag = 1\n",
    "    else :\n",
    "        flag = 0\n",
    "        break\n",
    "if flag:\n",
    "    print(\"Sorted\")\n",
    "else:\n",
    "    print(\"Not Sorted\")"
   ]
  },
  {
   "cell_type": "markdown",
   "id": "ff82c7cb",
   "metadata": {},
   "source": [
    "### Remove duplicates in place from sorted arrays"
   ]
  },
  {
   "cell_type": "code",
   "execution_count": 2,
   "id": "81254d3d",
   "metadata": {},
   "outputs": [
    {
     "name": "stdout",
     "output_type": "stream",
     "text": [
      "[0, 1, 2, 3, 4, 3, 3, 3, 3, 4]\n",
      "Size of unique elements is 5\n"
     ]
    }
   ],
   "source": [
    "a = [0,1,1,2,2,3,3,3,3,4]\n",
    "i = 0\n",
    "for j in range(1,len(a)):\n",
    "    if a[j]!=a[i]:\n",
    "        a[i+1]=a[j]\n",
    "        i=i+1\n",
    "\n",
    "\n",
    "print(a)\n",
    "print(f\"Size of unique elements is {i+1}\")"
   ]
  },
  {
   "cell_type": "markdown",
   "id": "36d5b19f",
   "metadata": {},
   "source": [
    "### Left rotate an array by one position"
   ]
  },
  {
   "cell_type": "code",
   "execution_count": 5,
   "id": "51c12614",
   "metadata": {},
   "outputs": [
    {
     "name": "stdout",
     "output_type": "stream",
     "text": [
      "[2, 3, 4, 5, 1]\n"
     ]
    }
   ],
   "source": [
    "nums = [1,2,3,4,5]\n",
    "temp = nums[0]\n",
    "for i in range(1,len(nums)):\n",
    "    nums[i-1]=nums[i]\n",
    "nums[len(nums)-1]=temp\n",
    "print(nums)"
   ]
  },
  {
   "cell_type": "markdown",
   "id": "78915bd5",
   "metadata": {},
   "source": [
    "### Left rotate an array by d position"
   ]
  },
  {
   "cell_type": "code",
   "execution_count": 6,
   "id": "5f04257b",
   "metadata": {},
   "outputs": [
    {
     "name": "stdout",
     "output_type": "stream",
     "text": [
      "[1, 2, 3, 4, 5, 6, 7, 8, 9, 10]\n"
     ]
    }
   ],
   "source": [
    "d = 15\n",
    "d = d if d<=len(nums) else d%len(nums)\n",
    "arr=[]\n",
    "nums = [1,2,3,4,5,6,7,8,9,10]\n",
    "for i in range(d):\n",
    "    arr.append(nums[i])\n",
    "for i in range(d,len(nums)):\n",
    "    nums[i-d]=nums[i]\n",
    "for i in range(d):\n",
    "    nums[len(nums)-d]=arr[i]\n",
    "    d=d-1\n",
    "print(nums)"
   ]
  },
  {
   "cell_type": "code",
   "execution_count": 7,
   "id": "180fe166",
   "metadata": {},
   "outputs": [
    {
     "name": "stdout",
     "output_type": "stream",
     "text": [
      "10 9 8 7 6 5 4 3 2 1 0 "
     ]
    }
   ],
   "source": [
    "for j in range(10,-1,-1):\n",
    "    print(j, end =\" \")"
   ]
  },
  {
   "cell_type": "markdown",
   "id": "5361d5c0",
   "metadata": {},
   "source": [
    "### Move zeros to the end"
   ]
  },
  {
   "cell_type": "code",
   "execution_count": 8,
   "id": "48d0795b",
   "metadata": {},
   "outputs": [
    {
     "name": "stdout",
     "output_type": "stream",
     "text": [
      "[1, 3, 12, 0, 0]\n"
     ]
    }
   ],
   "source": [
    "nums = [0,1,0,3,12]\n",
    "\n",
    "j =-1\n",
    "\n",
    "for i in range(len(nums)):\n",
    "    if nums[i]==0:\n",
    "        j=i\n",
    "        break\n",
    "\n",
    "for i in range(j+1,len(nums)):\n",
    "    if nums[i]!=0:\n",
    "        nums[j],nums[i] = nums[i],nums[j]\n",
    "        j+=1\n",
    "print(nums)"
   ]
  },
  {
   "cell_type": "markdown",
   "id": "141f29c4",
   "metadata": {},
   "source": [
    "### Union of two arrays"
   ]
  },
  {
   "cell_type": "code",
   "execution_count": 9,
   "id": "8ae76f28",
   "metadata": {
    "scrolled": true
   },
   "outputs": [
    {
     "name": "stdout",
     "output_type": "stream",
     "text": [
      "Approach 1 : [2, 3, 4, 5, 1]\n",
      "Approach 2 : [1, 2, 3, 4, 5]\n"
     ]
    }
   ],
   "source": [
    "a = [2, 3, 4, 5]\n",
    "b = [1, 1, 2, 3, 4]\n",
    "\n",
    "# Approach 1 - Using hash map(Dictionary)\n",
    "freq = {}\n",
    "union = []\n",
    "\n",
    "for x in a:\n",
    "    freq[x]= freq.get(x,0)+1\n",
    "\n",
    "for x in b:\n",
    "    freq[x]= freq.get(x,0)+1\n",
    "\n",
    "for x in freq:\n",
    "    union.append(x)\n",
    "print(f\"Approach 1 : {union}\")    \n",
    "# Approach 2 - Using Set\n",
    "\n",
    "s = set()\n",
    "union = []\n",
    "for x in a:\n",
    "    s.add(x)\n",
    "\n",
    "for x in b:\n",
    "    s.add(x)\n",
    "\n",
    "for x in s:\n",
    "    union.append(x)\n",
    "print(f\"Approach 2 : {union}\") "
   ]
  },
  {
   "cell_type": "code",
   "execution_count": 10,
   "id": "c6695544",
   "metadata": {},
   "outputs": [
    {
     "name": "stdout",
     "output_type": "stream",
     "text": [
      "[1, 2, 3, 4, 5, 7, 9]\n"
     ]
    }
   ],
   "source": [
    "# Approach 3 - Using 2 pointer\n",
    "\n",
    "a =  [1, 1, 2, 3, 4,9]\n",
    "b = [2, 3, 4, 5,7]\n",
    "\n",
    "u = []\n",
    "\n",
    "i = 0\n",
    "j = 0\n",
    "\n",
    "while i<len(a) and j<len(b):\n",
    "    if a[i]<=b[j] :\n",
    "        if len(u)==0 or u[-1]!=a[i]:\n",
    "            u.append(a[i])\n",
    "        i+=1\n",
    "    else:\n",
    "        if len(u)==0 or u[-1]!=b[j]:\n",
    "            u.append(b[j])\n",
    "        j+=1\n",
    "\n",
    "while i < len(a):\n",
    "    if u[-1]!=a[i]:\n",
    "        u.append(a[i])\n",
    "    i+=1\n",
    "while j < len(b):\n",
    "    if u[-1]!=b[j]:\n",
    "        u.append(b[j])\n",
    "    j+=1\n",
    "print(u)"
   ]
  },
  {
   "cell_type": "markdown",
   "id": "e933cbfb",
   "metadata": {},
   "source": [
    "### Missing number"
   ]
  },
  {
   "cell_type": "code",
   "execution_count": 11,
   "id": "b2646c87",
   "metadata": {},
   "outputs": [
    {
     "name": "stdout",
     "output_type": "stream",
     "text": [
      "4\n"
     ]
    }
   ],
   "source": [
    "nums = [1,2,3,5]\n",
    "n = 5\n",
    "missing_no = int(n*(n+1)/2) - sum(nums)\n",
    "print(missing_no)"
   ]
  },
  {
   "cell_type": "markdown",
   "id": "2aaaa947",
   "metadata": {},
   "source": [
    "### Maximum consecutive ones"
   ]
  },
  {
   "cell_type": "code",
   "execution_count": 12,
   "id": "475a6fdc",
   "metadata": {},
   "outputs": [
    {
     "name": "stdout",
     "output_type": "stream",
     "text": [
      "3\n"
     ]
    }
   ],
   "source": [
    "nums = [1,1,0,1,1,1,0,1,1]\n",
    "cnt = 0\n",
    "maximum = 0\n",
    "\n",
    "for i in nums:\n",
    "    if i == 0:\n",
    "        cnt = 0\n",
    "    elif i==1:        \n",
    "        cnt+=1        \n",
    "    if cnt >= maximum:\n",
    "        maximum=cnt\n",
    "print(maximum)\n",
    "    "
   ]
  },
  {
   "cell_type": "markdown",
   "id": "bea3d3fb",
   "metadata": {},
   "source": [
    "### \tFind the number that appears once, and other numbers twice."
   ]
  },
  {
   "cell_type": "code",
   "execution_count": 13,
   "id": "94f87d83",
   "metadata": {},
   "outputs": [
    {
     "name": "stdout",
     "output_type": "stream",
     "text": [
      "4\n"
     ]
    }
   ],
   "source": [
    "# Approach 1 (better approach)\n",
    "\n",
    "nums = [4,1,2,1,2]\n",
    "\n",
    "max_value = -1\n",
    "\n",
    "for i in nums:\n",
    "    max_value = max(max_value,i)\n",
    "\n",
    "hash = [0]*(max_value+1)\n",
    "\n",
    "for x in nums:\n",
    "    hash[x]+=1\n",
    "\n",
    "for x in range(len(hash)):\n",
    "    if hash[x]==1:\n",
    "        print(x)"
   ]
  },
  {
   "cell_type": "code",
   "execution_count": 14,
   "id": "47b3ae91",
   "metadata": {},
   "outputs": [
    {
     "name": "stdout",
     "output_type": "stream",
     "text": [
      "4\n"
     ]
    }
   ],
   "source": [
    "# Approach 2 (Optimal approach)\n",
    "\n",
    "hash_dict = {}\n",
    "\n",
    "for x in nums:\n",
    "    if x in hash_dict:\n",
    "        hash_dict[x]+=1\n",
    "    else:\n",
    "        hash_dict[x]=1\n",
    "\n",
    "for x,y in hash_dict.items():\n",
    "    if y==1:\n",
    "        print(x)\n",
    "   "
   ]
  },
  {
   "cell_type": "markdown",
   "id": "a7ae571f",
   "metadata": {},
   "source": [
    "### Longest subarray with sum k"
   ]
  },
  {
   "cell_type": "code",
   "execution_count": 15,
   "id": "616fe3d1",
   "metadata": {},
   "outputs": [
    {
     "name": "stdout",
     "output_type": "stream",
     "text": [
      "3\n"
     ]
    }
   ],
   "source": [
    "# Approach 1 - Using 2 pointer (works if nos are positive only)\n",
    "arr = [47, 54, 66, 0,0,47, 54, 66] \n",
    "\n",
    "sum = 0\n",
    "k = 66\n",
    "l = 0\n",
    "r = 0\n",
    "max_len = 0\n",
    "\n",
    "while r<len(arr):\n",
    "    sum +=arr[r]\n",
    "    while sum > k and l<=r:\n",
    "        sum=sum - arr[l]        \n",
    "        l+=1\n",
    "    if sum == k:\n",
    "        max_len = max(max_len,r-l+1)\n",
    "    r+=1\n",
    "print(max_len)"
   ]
  },
  {
   "cell_type": "code",
   "execution_count": 16,
   "id": "60860471",
   "metadata": {},
   "outputs": [
    {
     "name": "stdout",
     "output_type": "stream",
     "text": [
      "3\n"
     ]
    }
   ],
   "source": [
    "#Approach 2 - Using Hashing (This works for both positives and negatives)\n",
    "arr = [1,2,3,1,1,1,1,4,2,3]\n",
    "\n",
    "sum = 0\n",
    "k = 3\n",
    "l = 0\n",
    "d = dict()\n",
    "\n",
    "for i in range(len(arr)):\n",
    "    sum+=arr[i]\n",
    "    \n",
    "    if sum == k:\n",
    "        l = max(l,i+1)\n",
    "    \n",
    "    rem = sum - k\n",
    "    \n",
    "    if rem in d:\n",
    "        l = max(l,i-d[rem])\n",
    "        \n",
    "    if sum not in d:\n",
    "        d[sum] = i\n",
    "\n",
    "print(l)\n",
    "    "
   ]
  },
  {
   "cell_type": "markdown",
   "id": "cde2c1b4",
   "metadata": {},
   "source": [
    "### Two sum"
   ]
  },
  {
   "cell_type": "code",
   "execution_count": 17,
   "id": "bc9c3895",
   "metadata": {},
   "outputs": [
    {
     "name": "stdout",
     "output_type": "stream",
     "text": [
      "1 2\n"
     ]
    }
   ],
   "source": [
    "# Better solution using hashmap\n",
    "\n",
    "arr = [4,1,2,5,6]\n",
    "k = 3\n",
    "d = dict()\n",
    "\n",
    "for i in range(len(arr)):\n",
    "    complement = k-arr[i]\n",
    "    if complement in d:\n",
    "        print(d[complement],i)\n",
    "    d[arr[i]] = i\n",
    "\n",
    "        "
   ]
  },
  {
   "cell_type": "code",
   "execution_count": 18,
   "id": "849cbdad",
   "metadata": {},
   "outputs": [
    {
     "name": "stdout",
     "output_type": "stream",
     "text": [
      "1 2\n"
     ]
    }
   ],
   "source": [
    "# Two pointer\n",
    "\n",
    "# First sort the array\n",
    "\n",
    "arr = [4,1,2,5,6]\n",
    "\n",
    "arr.sort()\n",
    "\n",
    "k = 3\n",
    "l = 0\n",
    "r = len(arr)-1\n",
    "\n",
    "while l<r:\n",
    "    if arr[l]+arr[r] == k:\n",
    "        print(arr[l],arr[r])\n",
    "    if arr[l]+arr[r] < k:\n",
    "        l+=1\n",
    "    else:\n",
    "        r-=1\n",
    "\n",
    "\n",
    "        "
   ]
  },
  {
   "cell_type": "markdown",
   "id": "e39b238b",
   "metadata": {},
   "source": [
    "### Sort Colors"
   ]
  },
  {
   "cell_type": "code",
   "execution_count": 19,
   "id": "83c3d4e6",
   "metadata": {},
   "outputs": [
    {
     "name": "stdout",
     "output_type": "stream",
     "text": [
      "[0, 0, 1, 1, 2, 2]\n"
     ]
    }
   ],
   "source": [
    "# Using Dutch national flag algorithm\n",
    "\n",
    "nums = [2,0,2,1,1,0]\n",
    "low = 0\n",
    "mid = 0\n",
    "high = len(nums)-1\n",
    "\n",
    "while mid <= high:\n",
    "    if nums[mid] == 0:\n",
    "        nums[low],nums[mid] = nums[mid],nums[low]\n",
    "        low+=1\n",
    "        mid+=1\n",
    "    elif nums[mid] == 1:\n",
    "        mid+=1\n",
    "    elif nums[mid] == 2:\n",
    "        nums[mid],nums[high]=nums[high],nums[mid]\n",
    "        high-=1\n",
    "print(nums)"
   ]
  },
  {
   "cell_type": "markdown",
   "id": "07b55c0b",
   "metadata": {},
   "source": [
    "### Majority element"
   ]
  },
  {
   "cell_type": "code",
   "execution_count": 20,
   "id": "e323e7a5",
   "metadata": {},
   "outputs": [
    {
     "name": "stdout",
     "output_type": "stream",
     "text": [
      "3 "
     ]
    }
   ],
   "source": [
    "# Better solution using hash\n",
    "nums = [2,2,3,3,1,2,2,3,3,3,3]\n",
    "d = {}\n",
    "n = int(len(nums)/2)\n",
    "for i in nums:\n",
    "    if i not in d:\n",
    "        d[i]=1\n",
    "    else:\n",
    "        d[i]+=1\n",
    "\n",
    "for x in d:\n",
    "    if d[x] > n:\n",
    "        print(x,end=\" \")"
   ]
  },
  {
   "cell_type": "code",
   "execution_count": 21,
   "id": "bcce0953",
   "metadata": {},
   "outputs": [
    {
     "name": "stdout",
     "output_type": "stream",
     "text": [
      "3 1\n",
      "3 2 1\n",
      "Majority element is 3\n"
     ]
    }
   ],
   "source": [
    "# Using Moores Voting Algorithm\n",
    "\n",
    "nums =[3,2,3]\n",
    "ele = -1\n",
    "cnt = 0\n",
    "\n",
    "for x in nums:\n",
    "    if cnt == 0:\n",
    "        ele = x\n",
    "        cnt+=1\n",
    "    else:\n",
    "        if ele == x:\n",
    "            cnt+=1\n",
    "        else:\n",
    "            cnt-=1\n",
    "print(ele,cnt)\n",
    "cnt = 0\n",
    "for x in nums:\n",
    "    if x == ele:\n",
    "        cnt+=1\n",
    "print(ele,cnt,int(len(nums)/2))\n",
    "if cnt > int(len(nums)/2):\n",
    "    print(f'Majority element is {ele}')\n",
    "        "
   ]
  },
  {
   "cell_type": "markdown",
   "id": "fab6b18c",
   "metadata": {},
   "source": [
    "### Maximum Subarray"
   ]
  },
  {
   "cell_type": "code",
   "execution_count": 22,
   "id": "89815fa1",
   "metadata": {
    "scrolled": true
   },
   "outputs": [
    {
     "name": "stdout",
     "output_type": "stream",
     "text": [
      "Maximum sum is 23\n"
     ]
    }
   ],
   "source": [
    "# Brute force\n",
    "\n",
    "nums = [5,4,-1,7,8]\n",
    "\n",
    "maximum_ele = -1\n",
    "for i in range(len(nums)):\n",
    "    sum = nums[i]\n",
    "    for j in range(len(nums)):\n",
    "        if i != j:\n",
    "            sum += nums[j]\n",
    "            maximum_ele = max(maximum_ele,sum)\n",
    "print(f'Maximum sum is {maximum_ele}')"
   ]
  },
  {
   "cell_type": "code",
   "execution_count": 23,
   "id": "0f9f2d46",
   "metadata": {},
   "outputs": [
    {
     "name": "stdout",
     "output_type": "stream",
     "text": [
      "2\n"
     ]
    }
   ],
   "source": [
    "# Kadanes algorithm\n",
    "\n",
    "nums = [-1,2]\n",
    "\n",
    "sum = 0\n",
    "max_sum = nums[0]\n",
    "\n",
    "for x in nums:\n",
    "    sum+=x\n",
    "    max_sum = max(max_sum,sum)\n",
    "    if sum < 0:\n",
    "        sum = 0\n",
    "\n",
    "\n",
    "print(max_sum)\n",
    "    "
   ]
  },
  {
   "cell_type": "markdown",
   "id": "707fef4b",
   "metadata": {},
   "source": [
    "### Best time to buy and sell stocks"
   ]
  },
  {
   "cell_type": "code",
   "execution_count": 24,
   "id": "3e4d46d5",
   "metadata": {},
   "outputs": [
    {
     "name": "stdout",
     "output_type": "stream",
     "text": [
      "18\n"
     ]
    }
   ],
   "source": [
    "nums = [8,7,6,5,23]\n",
    "\n",
    "max_profit = 0\n",
    "min_value = nums[0]\n",
    "\n",
    "for i in range(0,len(nums)):\n",
    "    profit = nums[i]-min_value\n",
    "    max_profit = max(max_profit,profit)\n",
    "    min_value = min(min_value,nums[i])\n",
    "print(max_profit)"
   ]
  },
  {
   "cell_type": "markdown",
   "id": "e3a85302",
   "metadata": {},
   "source": [
    "### Rearrange Array Elements by Sign"
   ]
  },
  {
   "cell_type": "code",
   "execution_count": 25,
   "id": "3bb7356b",
   "metadata": {},
   "outputs": [
    {
     "name": "stdout",
     "output_type": "stream",
     "text": [
      "[3, -2, 1, -5, 2, -4]\n"
     ]
    }
   ],
   "source": [
    "nums = [3,1,-2,-5,2,-4]\n",
    "\n",
    "pos = 0\n",
    "neg = 1\n",
    "ans = [0]*len(nums)\n",
    "\n",
    "for x in nums:\n",
    "    if x > 0 : \n",
    "        ans[pos]=x\n",
    "        pos+=2\n",
    "    elif x < 0 : \n",
    "        ans[neg] = x\n",
    "        neg+=2\n",
    "print(ans)"
   ]
  },
  {
   "cell_type": "markdown",
   "id": "f40f618e",
   "metadata": {},
   "source": [
    "### Permuatation of Numbers"
   ]
  },
  {
   "cell_type": "code",
   "execution_count": 26,
   "id": "51035efc",
   "metadata": {},
   "outputs": [
    {
     "name": "stdout",
     "output_type": "stream",
     "text": [
      "[1, 2, 3]\n",
      "[1, 3, 2]\n",
      "[2, 1, 3]\n",
      "[2, 3, 1]\n",
      "[3, 2, 1]\n",
      "[3, 1, 2]\n"
     ]
    }
   ],
   "source": [
    "def permute(nums, start=0):\n",
    "    # Base case: If we have fixed all positions\n",
    "    if start == len(nums):\n",
    "        print(nums)\n",
    "        return\n",
    "    \n",
    "    # Recursive case: Try fixing each element at the `start` position\n",
    "    for i in range(start, len(nums)):\n",
    "        # Swap to place the current element at the `start` index\n",
    "        nums[start], nums[i] = nums[i], nums[start]\n",
    "        \n",
    "        # Recur to permute the remaining elements\n",
    "        permute(nums, start + 1)\n",
    "        \n",
    "        # Backtrack: Undo the swap\n",
    "        nums[start], nums[i] = nums[i], nums[start]\n",
    "\n",
    "# Example usage\n",
    "numbers = [1,2,3]\n",
    "permute(numbers)\n"
   ]
  },
  {
   "cell_type": "markdown",
   "id": "ac5fb093",
   "metadata": {},
   "source": [
    "### Next Permutation"
   ]
  },
  {
   "cell_type": "code",
   "execution_count": 27,
   "id": "1ec3d093",
   "metadata": {},
   "outputs": [
    {
     "name": "stdout",
     "output_type": "stream",
     "text": [
      "[2, 5, 1, 2, 3]\n"
     ]
    }
   ],
   "source": [
    "nums = [2,3,5,2,1]\n",
    "n = len(nums)\n",
    "\n",
    "index = -1\n",
    "\n",
    "for i in range(n-2,-1,-1):\n",
    "    if nums[i]<nums[i+1]:\n",
    "        index = i\n",
    "        break\n",
    "\n",
    "if index ==-1:\n",
    "    nums.reverse()\n",
    "    \n",
    "\n",
    "for i in range(n-1,index,-1):\n",
    "    if nums[index]<nums[i]:\n",
    "        nums[index],nums[i]=nums[i],nums[index]\n",
    "        break\n",
    "        \n",
    "nums = nums[:index+1]+nums[:index:-1]\n",
    "print(nums)"
   ]
  },
  {
   "cell_type": "markdown",
   "id": "aefd146e",
   "metadata": {},
   "source": [
    "### Leaders in an array"
   ]
  },
  {
   "cell_type": "code",
   "execution_count": 28,
   "id": "2bdfefa4",
   "metadata": {},
   "outputs": [
    {
     "name": "stdout",
     "output_type": "stream",
     "text": [
      "[22, 12, 6]\n"
     ]
    }
   ],
   "source": [
    "# Bruteforce approach \n",
    "\n",
    "nums = [10,22,12,3,0,6]\n",
    "ans = []\n",
    "for i in range(len(nums)):\n",
    "    leader = 1\n",
    "    for j in range(i+1,len(nums)):\n",
    "        if nums[i]<nums[j]:\n",
    "            leader = 0\n",
    "            break\n",
    "    if leader == 1:\n",
    "        ans.append(nums[i])\n",
    "print(ans)"
   ]
  },
  {
   "cell_type": "code",
   "execution_count": 36,
   "id": "280385fb",
   "metadata": {},
   "outputs": [
    {
     "name": "stdout",
     "output_type": "stream",
     "text": [
      "[17, 17, 5, 2]\n"
     ]
    }
   ],
   "source": [
    "nums = [16 ,17,17 ,4 ,3 ,5, 2]\n",
    "ans = []\n",
    "maximum = -1\n",
    "\n",
    "for i in range(len(nums)-1,-1,-1):\n",
    "    if nums[i]>=maximum:\n",
    "        ans.append(nums[i])\n",
    "        maximum = nums[i]\n",
    "print(ans[::-1])"
   ]
  },
  {
   "cell_type": "markdown",
   "id": "880d7bf6",
   "metadata": {},
   "source": [
    "### Longest consecutive sequence"
   ]
  },
  {
   "cell_type": "code",
   "execution_count": 12,
   "id": "8a1bb031",
   "metadata": {},
   "outputs": [
    {
     "name": "stdout",
     "output_type": "stream",
     "text": [
      "5\n"
     ]
    }
   ],
   "source": [
    "### Brute force approach\n",
    "\n",
    "arr = [1,2,3,4,10,12,11,13,9,10,11]\n",
    "def lin_search(arr,ele):\n",
    "    for i in range(len(arr)):\n",
    "        if arr[i] == ele:\n",
    "            return True\n",
    "    return False\n",
    "maxim = 1\n",
    "for i in range(len(arr)):\n",
    "    cnt = 1\n",
    "    x = arr[i]\n",
    "    while(lin_search(arr,x+1)==True):\n",
    "        x+=1\n",
    "        cnt+=1\n",
    "    maxim = max(maxim,cnt)\n",
    "print(maxim)       "
   ]
  },
  {
   "cell_type": "code",
   "execution_count": 5,
   "id": "786e2356",
   "metadata": {},
   "outputs": [
    {
     "name": "stdout",
     "output_type": "stream",
     "text": [
      "102\n"
     ]
    }
   ],
   "source": [
    "### Better solution\n",
    "\n",
    "arr = [1,1,1,2,2,3,3,3,3,100,100,101,102,102]\n",
    "\n",
    "## first make sure array is sorted\n",
    "cnt = 0\n",
    "l = float('-inf')\n",
    "maxim = 1\n",
    "for i in range(len(arr)):\n",
    "    if arr[i]-1 == l :\n",
    "        cnt+=1\n",
    "        \n",
    "    elif arr[i]!=l:\n",
    "        cnt = 1\n",
    "        l = arr[i]\n",
    "    maxim = max(maxim,cnt)\n",
    "print(l)"
   ]
  },
  {
   "cell_type": "code",
   "execution_count": 13,
   "id": "e2732586",
   "metadata": {},
   "outputs": [
    {
     "name": "stdout",
     "output_type": "stream",
     "text": [
      "7\n"
     ]
    }
   ],
   "source": [
    "### Optimal soution\n",
    "\n",
    "arr = [100,4,200,1,3,2,5,7,6,6]\n",
    "s = set(arr)\n",
    "\n",
    "max_cnt = 0\n",
    "\n",
    "for x in arr:\n",
    "    if x-1 not in s:\n",
    "        cnt = 0\n",
    "        cur_ele = x\n",
    "        while cur_ele in s:\n",
    "            cnt+=1\n",
    "            cur_ele+=1\n",
    "        max_cnt = max(cnt,max_cnt)\n",
    "print(max_cnt)"
   ]
  },
  {
   "cell_type": "markdown",
   "id": "d2765dab",
   "metadata": {},
   "source": [
    "#### Merge Sort"
   ]
  },
  {
   "cell_type": "code",
   "execution_count": 3,
   "id": "a9c1827c",
   "metadata": {},
   "outputs": [
    {
     "name": "stdout",
     "output_type": "stream",
     "text": [
      "[1, 3, 4, 5, 7]\n"
     ]
    }
   ],
   "source": [
    "arr = [4,7,1,3,5]\n",
    "low = 0\n",
    "high = len(arr)-1\n",
    "\n",
    "def merge(arr,low,mid,high):\n",
    "    left = arr[low:mid+1]\n",
    "    right = arr[mid+1:high+1]\n",
    "    l=0\n",
    "    r=0\n",
    "    k=low\n",
    "    while l < len(left) and r < len(right):\n",
    "        if left[l]<right[r]:\n",
    "            arr[k]=left[l]\n",
    "            l+=1\n",
    "        else:\n",
    "            arr[k]=right[r]\n",
    "            r+=1\n",
    "        k+=1\n",
    "        \n",
    "    while l < len(left):\n",
    "        arr[k] = left[l]\n",
    "        l+=1\n",
    "        k+=1\n",
    "        \n",
    "    while r< len(right):\n",
    "        arr[k]=right[r]\n",
    "        r+=1\n",
    "        k+=1\n",
    "\n",
    "def merge_sort(arr,low,high):\n",
    "    if low>=high:\n",
    "        return \n",
    "    mid = int((low+high)/2)\n",
    "    merge_sort(arr,low,mid)\n",
    "    merge_sort(arr,mid+1,high)\n",
    "    merge(arr,low,mid,high)\n",
    "    return arr\n",
    "   \n",
    "print(merge_sort(arr,low,high))"
   ]
  },
  {
   "cell_type": "markdown",
   "id": "a9d8f301",
   "metadata": {},
   "source": [
    "### Count subarray with give sum k"
   ]
  },
  {
   "cell_type": "code",
   "execution_count": 16,
   "id": "82bb19d4",
   "metadata": {},
   "outputs": [
    {
     "name": "stdout",
     "output_type": "stream",
     "text": [
      "8\n"
     ]
    }
   ],
   "source": [
    "arr = [1,2,3,-3,1,1,1,4,2,-3]\n",
    "k = 3\n",
    "\n",
    "d = {0: 1}  # Initialize with sum 0 at index -1 to handle exact match cases\n",
    "s = 0\n",
    "cnt = 0\n",
    "\n",
    "for i in range(len(arr)):\n",
    "    s+=arr[i]\n",
    "    if s-k in d:\n",
    "        cnt+=d[s-k]\n",
    "    if s not in d:\n",
    "        d[s]=1\n",
    "    else:\n",
    "        d[s]+=1\n",
    "\n",
    "print(cnt)\n",
    "\n"
   ]
  },
  {
   "cell_type": "markdown",
   "id": "b8e8a45d",
   "metadata": {},
   "source": [
    "### Calculate nCr"
   ]
  },
  {
   "cell_type": "code",
   "execution_count": 27,
   "id": "17af270d",
   "metadata": {},
   "outputs": [
    {
     "name": "stdout",
     "output_type": "stream",
     "text": [
      "6.0\n"
     ]
    }
   ],
   "source": [
    "def fun(n,r):\n",
    "    res = 1\n",
    "    for i in range(r):\n",
    "        res = res*(n-i)\n",
    "        res = res/(i+1)\n",
    "    return res\n",
    "print(fun(4,2))"
   ]
  },
  {
   "cell_type": "markdown",
   "id": "02b8472d",
   "metadata": {},
   "source": [
    "### Majority Element"
   ]
  },
  {
   "cell_type": "code",
   "execution_count": 28,
   "id": "3dcdb70b",
   "metadata": {},
   "outputs": [],
   "source": [
    "# Better solution\n",
    "def majorityElement(self, nums: List[int]) -> List[int]:\n",
    "    l = []\n",
    "    d = {}\n",
    "    for i in range(len(nums)):\n",
    "        if nums[i] not in d:\n",
    "            d[nums[i]]=1\n",
    "        else:\n",
    "            d[nums[i]]+=1\n",
    "        if d[nums[i]] > int(len(nums)/3) and nums[i] not in l:\n",
    "            l.append(nums[i])\n",
    "    return l"
   ]
  },
  {
   "cell_type": "code",
   "execution_count": 8,
   "id": "25aa626a",
   "metadata": {},
   "outputs": [
    {
     "name": "stdout",
     "output_type": "stream",
     "text": [
      "[1]\n"
     ]
    }
   ],
   "source": [
    "# Optimal solution\n",
    "\n",
    "arr = [2,1,1,1,3,1,4,5,6]\n",
    "\n",
    "cnt1 = 0\n",
    "cnt2 = 0\n",
    "ele1 = None\n",
    "ele2 = None\n",
    "\n",
    "for i in range(len(arr)):\n",
    "    if cnt1 == 0 and arr[i]!=ele2:\n",
    "        ele1 = arr[i]\n",
    "        cnt1 = 1\n",
    "    elif cnt2 == 0 and arr[i]!=ele1:\n",
    "        ele2 = arr[i]\n",
    "        cnt2 = 1\n",
    "    elif ele1 == arr[i]:\n",
    "        cnt1+=1\n",
    "    elif ele2 == arr[i]:\n",
    "        cnt2+=1\n",
    "    else:\n",
    "        cnt1-=1\n",
    "        cnt2-=1\n",
    "cnt1 = 0\n",
    "cnt2 = 0\n",
    "ls = []\n",
    "for i in range(len(arr)):\n",
    "    if ele1 == arr[i]:\n",
    "        cnt1+=1\n",
    "    if ele2 == arr[i]:\n",
    "        cnt2+=1\n",
    "    n = int(len(arr)/3)\n",
    "if cnt1 > n:\n",
    "    ls.append(ele1)\n",
    "if cnt2 > n:\n",
    "    ls.append(ele2)\n",
    "        \n",
    "\n",
    "print(ls)\n",
    "\n"
   ]
  },
  {
   "cell_type": "code",
   "execution_count": null,
   "id": "67dcec31",
   "metadata": {},
   "outputs": [],
   "source": []
  }
 ],
 "metadata": {
  "kernelspec": {
   "display_name": "Python 3 (ipykernel)",
   "language": "python",
   "name": "python3"
  },
  "language_info": {
   "codemirror_mode": {
    "name": "ipython",
    "version": 3
   },
   "file_extension": ".py",
   "mimetype": "text/x-python",
   "name": "python",
   "nbconvert_exporter": "python",
   "pygments_lexer": "ipython3",
   "version": "3.9.12"
  }
 },
 "nbformat": 4,
 "nbformat_minor": 5
}
