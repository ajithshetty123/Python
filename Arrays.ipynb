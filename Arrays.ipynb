{
 "cells": [
  {
   "cell_type": "markdown",
   "id": "523b0518",
   "metadata": {},
   "source": [
    "### Largest element in an array"
   ]
  },
  {
   "cell_type": "code",
   "execution_count": 2,
   "id": "c8d51969",
   "metadata": {},
   "outputs": [
    {
     "name": "stdout",
     "output_type": "stream",
     "text": [
      "12\n"
     ]
    }
   ],
   "source": [
    "nums = [10,5,12,4,1,8]\n",
    "\n",
    "largest = nums[0]\n",
    "for i in range(len(nums)):\n",
    "    if nums[i]>largest:\n",
    "        largest = nums[i]\n",
    "print(largest)"
   ]
  },
  {
   "cell_type": "markdown",
   "id": "d2df9241",
   "metadata": {},
   "source": [
    "### Second largest in an array"
   ]
  },
  {
   "cell_type": "code",
   "execution_count": 6,
   "id": "61664711",
   "metadata": {},
   "outputs": [
    {
     "name": "stdout",
     "output_type": "stream",
     "text": [
      "11\n"
     ]
    }
   ],
   "source": [
    "nums = [10,5,12,4,1,8,11,11]\n",
    "\n",
    "largest = nums[0]\n",
    "for i in range(len(nums)):\n",
    "    if nums[i]>largest:\n",
    "        largest = nums[i]\n",
    "second_largest = -1\n",
    "for i in range(len(nums)):\n",
    "    if nums[i]>second_largest and nums[i]!=largest:\n",
    "        second_largest = nums[i]\n",
    "print(second_largest)"
   ]
  },
  {
   "cell_type": "markdown",
   "id": "b0f19110",
   "metadata": {},
   "source": [
    "### Check if array is sorted or not"
   ]
  },
  {
   "cell_type": "code",
   "execution_count": 2,
   "id": "c8b6f8cf",
   "metadata": {},
   "outputs": [
    {
     "name": "stdout",
     "output_type": "stream",
     "text": [
      "0\n"
     ]
    }
   ],
   "source": [
    "nums = [1,2,3,4,5,8,7]\n",
    "for i in range(1,len(nums)):\n",
    "    if nums[i]>nums[i-1]:\n",
    "        flag = 1\n",
    "    else :\n",
    "        flag = 0\n",
    "print(flag)"
   ]
  },
  {
   "cell_type": "markdown",
   "id": "1051109d",
   "metadata": {},
   "source": [
    "### Remove duplicates in place from sorted arras"
   ]
  },
  {
   "cell_type": "code",
   "execution_count": null,
   "id": "70efb79f",
   "metadata": {},
   "outputs": [],
   "source": []
  }
 ],
 "metadata": {
  "kernelspec": {
   "display_name": "Python 3 (ipykernel)",
   "language": "python",
   "name": "python3"
  },
  "language_info": {
   "codemirror_mode": {
    "name": "ipython",
    "version": 3
   },
   "file_extension": ".py",
   "mimetype": "text/x-python",
   "name": "python",
   "nbconvert_exporter": "python",
   "pygments_lexer": "ipython3",
   "version": "3.9.12"
  }
 },
 "nbformat": 4,
 "nbformat_minor": 5
}
