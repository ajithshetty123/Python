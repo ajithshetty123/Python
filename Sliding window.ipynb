{
 "cells": [
  {
   "cell_type": "code",
   "execution_count": 83,
   "id": "593e9c41",
   "metadata": {},
   "outputs": [],
   "source": [
    "l = 0\n",
    "r = 0\n",
    "zeros = 0\n",
    "max_len = 0\n",
    "arr = [1,1,1,0,0,0,1,1,1,1,0]\n",
    "k=2\n",
    "length = 0"
   ]
  },
  {
   "cell_type": "code",
   "execution_count": 84,
   "id": "421bdd5b",
   "metadata": {
    "scrolled": true
   },
   "outputs": [
    {
     "name": "stdout",
     "output_type": "stream",
     "text": [
      "6\n"
     ]
    }
   ],
   "source": [
    "while r < len(arr):\n",
    "    if arr[r] == 0:\n",
    "        zeros = zeros + 1\n",
    "    while zeros > k:\n",
    "        if arr[l] == 0:\n",
    "            zeros =zeros - 1\n",
    "        l=l+1\n",
    "    if zeros <= k:\n",
    "        length = max(max_len,r-l+1)\n",
    "    r=r+1\n",
    "\n",
    "print(length)"
   ]
  },
  {
   "cell_type": "code",
   "execution_count": 85,
   "id": "71d1ad89",
   "metadata": {},
   "outputs": [],
   "source": [
    "l = 0\n",
    "r = 0\n",
    "max_len = 0\n",
    "arr = [3,3,3,1,2,1,1,2,3,3,4]\n",
    "a = {}\n",
    "k = 2"
   ]
  },
  {
   "cell_type": "code",
   "execution_count": 86,
   "id": "01b2c41d",
   "metadata": {},
   "outputs": [
    {
     "name": "stdout",
     "output_type": "stream",
     "text": [
      "5\n"
     ]
    }
   ],
   "source": [
    "while r < len(arr):\n",
    "    if arr[r] not in a:\n",
    "        a[arr[r]]=1\n",
    "    else:\n",
    "        a[arr[r]]+=1\n",
    "    if len(a) > k:\n",
    "        while len(a) > k:\n",
    "            a[arr[l]]-=1\n",
    "            if a[arr[l]] == 0:\n",
    "                del a[arr[l]]\n",
    "            l = l+1\n",
    "    if len(a) <= k:\n",
    "        max_len = max(max_len,r-l+1)\n",
    "    r = r+1\n",
    "print(max_len)"
   ]
  },
  {
   "cell_type": "code",
   "execution_count": 87,
   "id": "1a84828b",
   "metadata": {},
   "outputs": [],
   "source": [
    "l = 0\n",
    "r = 0\n",
    "mpp = {}\n",
    "s = \"AABABBA\"\n",
    "max_len = 0\n",
    "k =2"
   ]
  },
  {
   "cell_type": "code",
   "execution_count": 88,
   "id": "8b27be19",
   "metadata": {},
   "outputs": [
    {
     "name": "stdout",
     "output_type": "stream",
     "text": [
      "{'A': 1}\n",
      "{'A': 2}\n",
      "{'A': 2, 'B': 1}\n",
      "{'A': 3, 'B': 1}\n",
      "{'A': 3, 'B': 2}\n",
      "6\n"
     ]
    }
   ],
   "source": [
    "while r < len(s):\n",
    "    if s[r] not in mpp:\n",
    "        mpp[s[r]] = 1\n",
    "    else:\n",
    "        mpp[s[r]]+= 1\n",
    "    if len(mpp) > k:\n",
    "        mpp[s[l]] = mpp[s[l]] - 1\n",
    "        if mpp[s[l]] == 0:\n",
    "            del mpp[s[l]]\n",
    "        l =l+1\n",
    "    if k <= len(mpp) :\n",
    "        max_len = max(max_len,r-l+1)\n",
    "        if max_len - max(mpp.values()) > k :\n",
    "            break\n",
    "\n",
    "            \n",
    "    print(mpp)\n",
    "    r = r+1\n",
    "print(max_len)"
   ]
  },
  {
   "cell_type": "code",
   "execution_count": 89,
   "id": "9f9bf419",
   "metadata": {},
   "outputs": [
    {
     "name": "stdout",
     "output_type": "stream",
     "text": [
      "{'A': 3, 'B': 3}\n"
     ]
    }
   ],
   "source": [
    "print(mpp)"
   ]
  },
  {
   "cell_type": "code",
   "execution_count": 90,
   "id": "159e9746",
   "metadata": {},
   "outputs": [
    {
     "name": "stdout",
     "output_type": "stream",
     "text": [
      "3\n"
     ]
    }
   ],
   "source": [
    "print(max(mpp.values()))"
   ]
  },
  {
   "cell_type": "code",
   "execution_count": 91,
   "id": "b05e6eab",
   "metadata": {},
   "outputs": [],
   "source": [
    "a = [-1,-1,-1]"
   ]
  },
  {
   "cell_type": "code",
   "execution_count": 92,
   "id": "4565183d",
   "metadata": {},
   "outputs": [],
   "source": [
    "s='abcabcaa'"
   ]
  },
  {
   "cell_type": "code",
   "execution_count": 114,
   "id": "01ba5b80",
   "metadata": {},
   "outputs": [],
   "source": [
    "def numberOfSubstrings( s):\n",
    "    res, last = 0, [-1] * 3\n",
    "    for i, c in enumerate(s):\n",
    "        last[ord(c) - 97] = i\n",
    "        res += 1 + min(last)\n",
    "        print(last)\n",
    "        print(res)\n",
    "    return res"
   ]
  },
  {
   "cell_type": "code",
   "execution_count": 115,
   "id": "4505473e",
   "metadata": {},
   "outputs": [
    {
     "name": "stdout",
     "output_type": "stream",
     "text": [
      "[0, -1, -1]\n",
      "0\n",
      "[1, -1, -1]\n",
      "0\n",
      "[2, -1, -1]\n",
      "0\n",
      "[2, 3, -1]\n",
      "0\n",
      "[2, 4, -1]\n",
      "0\n",
      "[2, 4, 5]\n",
      "3\n"
     ]
    },
    {
     "data": {
      "text/plain": [
       "3"
      ]
     },
     "execution_count": 115,
     "metadata": {},
     "output_type": "execute_result"
    }
   ],
   "source": [
    "numberOfSubstrings(\"aaabbc\")"
   ]
  },
  {
   "cell_type": "code",
   "execution_count": 105,
   "id": "aad91a63",
   "metadata": {},
   "outputs": [
    {
     "name": "stdout",
     "output_type": "stream",
     "text": [
      "99\n"
     ]
    }
   ],
   "source": [
    "print(ord('c'))"
   ]
  },
  {
   "cell_type": "code",
   "execution_count": 106,
   "id": "966a7e31",
   "metadata": {},
   "outputs": [],
   "source": [
    "last = [-1,-1,-1]"
   ]
  },
  {
   "cell_type": "code",
   "execution_count": 119,
   "id": "edb06c26",
   "metadata": {},
   "outputs": [
    {
     "name": "stdout",
     "output_type": "stream",
     "text": [
      "1\n",
      "97\n"
     ]
    }
   ],
   "source": [
    "print(ord('B')-65)\n",
    "print(ord('a'))"
   ]
  },
  {
   "cell_type": "code",
   "execution_count": 172,
   "id": "8a6d14ae",
   "metadata": {},
   "outputs": [
    {
     "name": "stdout",
     "output_type": "stream",
     "text": [
      "5\n"
     ]
    }
   ],
   "source": [
    "s = 'AABABBA'\n",
    "k = 2\n",
    "h = [0]*26\n",
    "l= 0\n",
    "r = 0\n",
    "max_len = 0\n",
    "max_f = 0\n",
    "while r < len(s):\n",
    "    h[ord(s[r])-65]+=1\n",
    "    max_f = max(max_f,h[ord(s[r])-65]) \n",
    "    while (r-l+1)-max_f > k:\n",
    "        h[ord(s[l])-65]-=1\n",
    "        max_f = 0\n",
    "        for i in range(26):\n",
    "            max_f = max(max_f,h[i])\n",
    "        l=l+1\n",
    "    if (r-l+1)-max_f <= k :\n",
    "        max_len = max(max_len,r-l+1)\n",
    "    r=r+1\n",
    "print(max_len)\n",
    "    "
   ]
  },
  {
   "cell_type": "code",
   "execution_count": 169,
   "id": "9707219f",
   "metadata": {},
   "outputs": [
    {
     "name": "stdout",
     "output_type": "stream",
     "text": [
      "string v = A\n",
      "hash array = [1, 0, 0, 0, 0, 0, 0, 0, 0, 0, 0, 0, 0, 0, 0, 0, 0, 0, 0, 0, 0, 0, 0, 0, 0, 0]\n",
      "index j = 0\n",
      "current index in hash 0\n",
      "max freq = 1\n",
      "max len = 1\n",
      "string v = AA\n",
      "hash array = [2, 0, 0, 0, 0, 0, 0, 0, 0, 0, 0, 0, 0, 0, 0, 0, 0, 0, 0, 0, 0, 0, 0, 0, 0, 0]\n",
      "index j = 1\n",
      "current index in hash 0\n",
      "max freq = 2\n",
      "max len = 2\n",
      "string v = AAB\n",
      "hash array = [2, 1, 0, 0, 0, 0, 0, 0, 0, 0, 0, 0, 0, 0, 0, 0, 0, 0, 0, 0, 0, 0, 0, 0, 0, 0]\n",
      "index j = 2\n",
      "current index in hash 1\n",
      "max freq = 2\n",
      "max len = 3\n",
      "string v = AABA\n",
      "hash array = [3, 1, 0, 0, 0, 0, 0, 0, 0, 0, 0, 0, 0, 0, 0, 0, 0, 0, 0, 0, 0, 0, 0, 0, 0, 0]\n",
      "index j = 3\n",
      "current index in hash 0\n",
      "max freq = 3\n",
      "max len = 4\n",
      "string v = AABAB\n",
      "hash array = [3, 2, 0, 0, 0, 0, 0, 0, 0, 0, 0, 0, 0, 0, 0, 0, 0, 0, 0, 0, 0, 0, 0, 0, 0, 0]\n",
      "index j = 4\n",
      "current index in hash 1\n",
      "max freq = 3\n",
      "max len = 5\n",
      "string v = AABABB\n",
      "hash array = [3, 3, 0, 0, 0, 0, 0, 0, 0, 0, 0, 0, 0, 0, 0, 0, 0, 0, 0, 0, 0, 0, 0, 0, 0, 0]\n",
      "index j = 5\n",
      "current index in hash 1\n",
      "max freq = 3\n",
      "string v = A\n",
      "hash array = [1, 0, 0, 0, 0, 0, 0, 0, 0, 0, 0, 0, 0, 0, 0, 0, 0, 0, 0, 0, 0, 0, 0, 0, 0, 0]\n",
      "index j = 1\n",
      "current index in hash 0\n",
      "max freq = 1\n",
      "max len = 5\n",
      "string v = AB\n",
      "hash array = [1, 1, 0, 0, 0, 0, 0, 0, 0, 0, 0, 0, 0, 0, 0, 0, 0, 0, 0, 0, 0, 0, 0, 0, 0, 0]\n",
      "index j = 2\n",
      "current index in hash 1\n",
      "max freq = 1\n",
      "max len = 5\n",
      "string v = ABA\n",
      "hash array = [2, 1, 0, 0, 0, 0, 0, 0, 0, 0, 0, 0, 0, 0, 0, 0, 0, 0, 0, 0, 0, 0, 0, 0, 0, 0]\n",
      "index j = 3\n",
      "current index in hash 0\n",
      "max freq = 2\n",
      "max len = 5\n",
      "string v = ABAB\n",
      "hash array = [2, 2, 0, 0, 0, 0, 0, 0, 0, 0, 0, 0, 0, 0, 0, 0, 0, 0, 0, 0, 0, 0, 0, 0, 0, 0]\n",
      "index j = 4\n",
      "current index in hash 1\n",
      "max freq = 2\n",
      "max len = 5\n",
      "string v = ABABB\n",
      "hash array = [2, 3, 0, 0, 0, 0, 0, 0, 0, 0, 0, 0, 0, 0, 0, 0, 0, 0, 0, 0, 0, 0, 0, 0, 0, 0]\n",
      "index j = 5\n",
      "current index in hash 1\n",
      "max freq = 3\n",
      "max len = 5\n",
      "string v = ABABBA\n",
      "hash array = [3, 3, 0, 0, 0, 0, 0, 0, 0, 0, 0, 0, 0, 0, 0, 0, 0, 0, 0, 0, 0, 0, 0, 0, 0, 0]\n",
      "index j = 6\n",
      "current index in hash 0\n",
      "max freq = 3\n",
      "string v = B\n",
      "hash array = [0, 1, 0, 0, 0, 0, 0, 0, 0, 0, 0, 0, 0, 0, 0, 0, 0, 0, 0, 0, 0, 0, 0, 0, 0, 0]\n",
      "index j = 2\n",
      "current index in hash 1\n",
      "max freq = 1\n",
      "max len = 5\n",
      "string v = BA\n",
      "hash array = [1, 1, 0, 0, 0, 0, 0, 0, 0, 0, 0, 0, 0, 0, 0, 0, 0, 0, 0, 0, 0, 0, 0, 0, 0, 0]\n",
      "index j = 3\n",
      "current index in hash 0\n",
      "max freq = 1\n",
      "max len = 5\n",
      "string v = BAB\n",
      "hash array = [1, 2, 0, 0, 0, 0, 0, 0, 0, 0, 0, 0, 0, 0, 0, 0, 0, 0, 0, 0, 0, 0, 0, 0, 0, 0]\n",
      "index j = 4\n",
      "current index in hash 1\n",
      "max freq = 2\n",
      "max len = 5\n",
      "string v = BABB\n",
      "hash array = [1, 3, 0, 0, 0, 0, 0, 0, 0, 0, 0, 0, 0, 0, 0, 0, 0, 0, 0, 0, 0, 0, 0, 0, 0, 0]\n",
      "index j = 5\n",
      "current index in hash 1\n",
      "max freq = 3\n",
      "max len = 5\n",
      "string v = BABBA\n",
      "hash array = [2, 3, 0, 0, 0, 0, 0, 0, 0, 0, 0, 0, 0, 0, 0, 0, 0, 0, 0, 0, 0, 0, 0, 0, 0, 0]\n",
      "index j = 6\n",
      "current index in hash 0\n",
      "max freq = 3\n",
      "max len = 5\n",
      "string v = A\n",
      "hash array = [1, 0, 0, 0, 0, 0, 0, 0, 0, 0, 0, 0, 0, 0, 0, 0, 0, 0, 0, 0, 0, 0, 0, 0, 0, 0]\n",
      "index j = 3\n",
      "current index in hash 0\n",
      "max freq = 1\n",
      "max len = 5\n",
      "string v = AB\n",
      "hash array = [1, 1, 0, 0, 0, 0, 0, 0, 0, 0, 0, 0, 0, 0, 0, 0, 0, 0, 0, 0, 0, 0, 0, 0, 0, 0]\n",
      "index j = 4\n",
      "current index in hash 1\n",
      "max freq = 1\n",
      "max len = 5\n",
      "string v = ABB\n",
      "hash array = [1, 2, 0, 0, 0, 0, 0, 0, 0, 0, 0, 0, 0, 0, 0, 0, 0, 0, 0, 0, 0, 0, 0, 0, 0, 0]\n",
      "index j = 5\n",
      "current index in hash 1\n",
      "max freq = 2\n",
      "max len = 5\n",
      "string v = ABBA\n",
      "hash array = [2, 2, 0, 0, 0, 0, 0, 0, 0, 0, 0, 0, 0, 0, 0, 0, 0, 0, 0, 0, 0, 0, 0, 0, 0, 0]\n",
      "index j = 6\n",
      "current index in hash 0\n",
      "max freq = 2\n",
      "max len = 5\n",
      "string v = B\n",
      "hash array = [0, 1, 0, 0, 0, 0, 0, 0, 0, 0, 0, 0, 0, 0, 0, 0, 0, 0, 0, 0, 0, 0, 0, 0, 0, 0]\n",
      "index j = 4\n",
      "current index in hash 1\n",
      "max freq = 1\n",
      "max len = 5\n",
      "string v = BB\n",
      "hash array = [0, 2, 0, 0, 0, 0, 0, 0, 0, 0, 0, 0, 0, 0, 0, 0, 0, 0, 0, 0, 0, 0, 0, 0, 0, 0]\n",
      "index j = 5\n",
      "current index in hash 1\n",
      "max freq = 2\n",
      "max len = 5\n",
      "string v = BBA\n",
      "hash array = [1, 2, 0, 0, 0, 0, 0, 0, 0, 0, 0, 0, 0, 0, 0, 0, 0, 0, 0, 0, 0, 0, 0, 0, 0, 0]\n",
      "index j = 6\n",
      "current index in hash 0\n",
      "max freq = 2\n",
      "max len = 5\n",
      "string v = B\n",
      "hash array = [0, 1, 0, 0, 0, 0, 0, 0, 0, 0, 0, 0, 0, 0, 0, 0, 0, 0, 0, 0, 0, 0, 0, 0, 0, 0]\n",
      "index j = 5\n",
      "current index in hash 1\n",
      "max freq = 1\n",
      "max len = 5\n",
      "string v = BA\n",
      "hash array = [1, 1, 0, 0, 0, 0, 0, 0, 0, 0, 0, 0, 0, 0, 0, 0, 0, 0, 0, 0, 0, 0, 0, 0, 0, 0]\n",
      "index j = 6\n",
      "current index in hash 0\n",
      "max freq = 1\n",
      "max len = 5\n",
      "string v = A\n",
      "hash array = [1, 0, 0, 0, 0, 0, 0, 0, 0, 0, 0, 0, 0, 0, 0, 0, 0, 0, 0, 0, 0, 0, 0, 0, 0, 0]\n",
      "index j = 6\n",
      "current index in hash 0\n",
      "max freq = 1\n",
      "max len = 5\n",
      "5\n",
      "25\n"
     ]
    }
   ],
   "source": [
    "s = 'AABABBA'\n",
    "k=2\n",
    "max_len = 0\n",
    "list_of_substring = []\n",
    "co = 0\n",
    "for i in range(len(s)):\n",
    "    v = ''\n",
    "    h = [0]*26\n",
    "    max_f = 0\n",
    "    for j in range(i,len(s)):\n",
    "        \n",
    "        v = v+s[j]\n",
    "        print(f'string v = {v}')\n",
    "        list_of_substring.append(v)\n",
    "        h[ord(s[j])-65]+=1\n",
    "        print(f'hash array = {h}')\n",
    "        print(f'index j = {j}')\n",
    "        max_f = max(max_f,h[ord(s[j])-65])\n",
    "        print(f'current index in hash {ord(s[j])-65}')\n",
    "        print(f'max freq = {max_f}')\n",
    "        change = (j-i+1)-max_f\n",
    "        if change <= k:\n",
    "            co = co+1\n",
    "            max_len = max(max_len,j-i+1)\n",
    "        else:\n",
    "            break\n",
    "        print(f'max len = {max_len}')\n",
    "print(max_len)      \n",
    "print(co)\n",
    "\n",
    "        "
   ]
  },
  {
   "cell_type": "code",
   "execution_count": 166,
   "id": "b5c6044e",
   "metadata": {},
   "outputs": [
    {
     "name": "stdout",
     "output_type": "stream",
     "text": [
      "5\n"
     ]
    }
   ],
   "source": [
    "s = 'AABABBA'\n",
    "k=2\n",
    "max_len = 0\n",
    "list_of_substring = []\n",
    "for i in range(len(s)):\n",
    "    v = ''\n",
    "    h = [0]*26\n",
    "    max_f = 0\n",
    "    for j in range(i,len(s)):\n",
    "        v = v+s[j]\n",
    "        list_of_substring.append(v)\n",
    "        h[ord(s[j])-65]+=1\n",
    "        max_f = max(max_f,h[ord(s[j])-65])\n",
    "        change = (j-i+1)-max_f\n",
    "        if change <= k:\n",
    "            max_len = max(max_len,j-i+1)\n",
    "        else:\n",
    "            break\n",
    "print(max_len)        \n",
    "\n",
    "        "
   ]
  },
  {
   "cell_type": "code",
   "execution_count": 216,
   "id": "a57d7f8f",
   "metadata": {},
   "outputs": [
    {
     "name": "stdout",
     "output_type": "stream",
     "text": [
      "15\n"
     ]
    }
   ],
   "source": [
    "nums = [1,0,1,0,1]\n",
    "goal = 0\n",
    "li = []\n",
    "for i in range(len(nums)):\n",
    "    sum = 0\n",
    "    for j in range(i,len(nums)):\n",
    "        sum = sum + nums[j]\n",
    "        if sum == goal:\n",
    "            li.append(sum)\n",
    "print(len(li))\n"
   ]
  },
  {
   "cell_type": "code",
   "execution_count": 223,
   "id": "3d3a7313",
   "metadata": {},
   "outputs": [
    {
     "name": "stdout",
     "output_type": "stream",
     "text": [
      "5\n"
     ]
    }
   ],
   "source": [
    "nums = [0,0,0,0,0]\n",
    "goal = 0\n",
    "co = 0\n",
    "sum = 0\n",
    "l = 0\n",
    "r = 0\n",
    "while r<len(nums):\n",
    "    sum = sum + nums[r]\n",
    "    while sum > goal:\n",
    "        sum = sum - nums[l]\n",
    "        l=l+1\n",
    "    if sum == goal:\n",
    "        co=co+1\n",
    "    r=r+1\n",
    "print(co)"
   ]
  },
  {
   "cell_type": "code",
   "execution_count": 226,
   "id": "3e6ba011",
   "metadata": {},
   "outputs": [
    {
     "name": "stdout",
     "output_type": "stream",
     "text": [
      "1\n",
      "3\n",
      "2\n"
     ]
    }
   ],
   "source": [
    "nums = [2,3,1,4,2,14,5]\n",
    "k =3\n"
   ]
  },
  {
   "cell_type": "code",
   "execution_count": 229,
   "id": "778b1791",
   "metadata": {},
   "outputs": [
    {
     "name": "stdout",
     "output_type": "stream",
     "text": [
      "4\n"
     ]
    }
   ],
   "source": [
    "nums = [2,2,2]\n",
    "k =2\n",
    "def fun(cardPoints,k):\n",
    "    l_sum = 0\n",
    "    r_sum = 0\n",
    "    for i in range(k):\n",
    "        l_sum = l_sum + cardPoints[i]\n",
    "    max_sum = l_sum\n",
    "    r_index = len(cardPoints)-1\n",
    "    for i in range(k-1,-1,-1):\n",
    "        r_sum = r_sum + cardPoints[r_index]\n",
    "        r_index -=1\n",
    "        l_sum = l_sum - cardPoints[i]\n",
    "        max_sum = max(max_sum,l_sum+r_sum)\n",
    "    return max_sum\n",
    "\n",
    "print(fun(nums,k))"
   ]
  },
  {
   "cell_type": "code",
   "execution_count": 254,
   "id": "f0e7aaf6",
   "metadata": {},
   "outputs": [
    {
     "name": "stdout",
     "output_type": "stream",
     "text": [
      "0\n",
      "1\n",
      "last w index: 1  \n",
      "r index: 1 value w\n",
      "2\n",
      "3\n",
      "4\n",
      "last p index: 0  \n",
      "5\n",
      "last w index: 2  \n",
      "r index: 2 value w\n",
      "6\n",
      "4\n"
     ]
    }
   ],
   "source": [
    "def fun(s):\n",
    "    hash = [-1]*256\n",
    "    l = 0\n",
    "    r = 0\n",
    "    max_len = 0\n",
    "    n = len(s)\n",
    "    while(r< n):\n",
    "        if hash[ord(s[r])] !=-1:\n",
    "            print(f'last {s[r]} index: {hash[ord(s[r])]}  ')\n",
    "            if hash[ord(s[r])]>=l:\n",
    "                l = hash[ord(s[r])]+1\n",
    "                print(f'r index: {hash[ord(s[r])]} value {s[r]}')\n",
    "        length = r-l+1\n",
    "        max_len = max(length,max_len)\n",
    "        hash[ord(s[r])]=r\n",
    "        print(hash[ord(s[r])])\n",
    "        r = r+1\n",
    "\n",
    "    return max_len\n",
    "y=fun('pwwkepw')\n",
    "print(y)"
   ]
  },
  {
   "cell_type": "markdown",
   "id": "7dc621eb",
   "metadata": {},
   "source": [
    "##### "
   ]
  }
 ],
 "metadata": {
  "kernelspec": {
   "display_name": "Python 3 (ipykernel)",
   "language": "python",
   "name": "python3"
  },
  "language_info": {
   "codemirror_mode": {
    "name": "ipython",
    "version": 3
   },
   "file_extension": ".py",
   "mimetype": "text/x-python",
   "name": "python",
   "nbconvert_exporter": "python",
   "pygments_lexer": "ipython3",
   "version": "3.9.12"
  }
 },
 "nbformat": 4,
 "nbformat_minor": 5
}
