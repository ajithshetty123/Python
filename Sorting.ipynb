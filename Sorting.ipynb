{
 "cells": [
  {
   "cell_type": "markdown",
   "id": "ee1f806a",
   "metadata": {},
   "source": [
    "#### Selection Sort"
   ]
  },
  {
   "cell_type": "code",
   "execution_count": 10,
   "id": "eae257a1",
   "metadata": {},
   "outputs": [
    {
     "name": "stdout",
     "output_type": "stream",
     "text": [
      "[5, 10, 15, 20, 25, 30]\n"
     ]
    }
   ],
   "source": [
    "arr = [10,20,30,15,25,5]\n",
    "n = len(arr)\n",
    "for i in range(n-1):  # n-1 bcz no need to swap for last element\n",
    "    min = i\n",
    "    for j in range(i,n):\n",
    "        if arr[j] < arr[min]:\n",
    "            min = j\n",
    "    if arr[min]<arr[i]:\n",
    "        arr[i],arr[min]=arr[min],arr[i]\n",
    "print(arr)"
   ]
  },
  {
   "cell_type": "markdown",
   "id": "f91becd4",
   "metadata": {},
   "source": [
    "#### Bubble Sort"
   ]
  },
  {
   "cell_type": "code",
   "execution_count": 11,
   "id": "b29d297f",
   "metadata": {},
   "outputs": [
    {
     "name": "stdout",
     "output_type": "stream",
     "text": [
      "[5, 10, 15, 20, 25, 30]\n"
     ]
    }
   ],
   "source": [
    "arr = [10,20,30,15,25,5]\n",
    "n = len(arr)\n",
    "for i in range(n-1):\n",
    "    for j in range(n-i-1):\n",
    "        if arr[j]>arr[j+1]:\n",
    "            arr[j],arr[j+1]=arr[j+1],arr[j]\n",
    "print(arr)            "
   ]
  },
  {
   "cell_type": "code",
   "execution_count": 12,
   "id": "9e2ac57e",
   "metadata": {},
   "outputs": [
    {
     "name": "stdout",
     "output_type": "stream",
     "text": [
      "[5, 10, 15, 20, 25, 30]\n"
     ]
    }
   ],
   "source": [
    "arr = [10,20,30,15,25,5]\n",
    "n = len(arr)\n",
    "for i in range(n-1,-1,-1):\n",
    "    for j in range(i):\n",
    "        if arr[j]>arr[j+1]:\n",
    "            arr[j],arr[j+1]=arr[j+1],arr[j]\n",
    "print(arr) "
   ]
  },
  {
   "cell_type": "code",
   "execution_count": 38,
   "id": "34ec7d45",
   "metadata": {},
   "outputs": [
    {
     "name": "stdout",
     "output_type": "stream",
     "text": [
      "[3, 5, 10, 15, 20, 25, 30]\n"
     ]
    }
   ],
   "source": [
    "arr = [10,20,30,15,25,5,3]\n",
    "n = len(arr)\n",
    "for i in range(n-1):\n",
    "    for j in range(i+1,0,-1):\n",
    "        if arr[j-1]>arr[j] :\n",
    "            arr[j],arr[j-1]=arr[j-1],arr[j]\n",
    "print(arr)"
   ]
  },
  {
   "cell_type": "code",
   "execution_count": null,
   "id": "d6b09664",
   "metadata": {},
   "outputs": [],
   "source": []
  }
 ],
 "metadata": {
  "kernelspec": {
   "display_name": "Python 3 (ipykernel)",
   "language": "python",
   "name": "python3"
  },
  "language_info": {
   "codemirror_mode": {
    "name": "ipython",
    "version": 3
   },
   "file_extension": ".py",
   "mimetype": "text/x-python",
   "name": "python",
   "nbconvert_exporter": "python",
   "pygments_lexer": "ipython3",
   "version": "3.9.12"
  }
 },
 "nbformat": 4,
 "nbformat_minor": 5
}
