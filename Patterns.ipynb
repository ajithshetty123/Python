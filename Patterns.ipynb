{
 "cells": [
  {
   "cell_type": "code",
   "execution_count": 1,
   "id": "c4a5b790",
   "metadata": {
    "scrolled": true
   },
   "outputs": [
    {
     "name": "stdout",
     "output_type": "stream",
     "text": [
      "* * * * \n",
      "* * * * \n",
      "* * * * \n",
      "* * * * \n"
     ]
    }
   ],
   "source": [
    "for i in range(4):\n",
    "    for j in range(4):\n",
    "        print('*',end =\" \")\n",
    "    print(end='\\n')\n"
   ]
  },
  {
   "cell_type": "code",
   "execution_count": 2,
   "id": "4b7c0c39",
   "metadata": {
    "scrolled": true
   },
   "outputs": [
    {
     "name": "stdout",
     "output_type": "stream",
     "text": [
      "* \n",
      "* * \n",
      "* * * \n",
      "* * * * \n",
      "* * * * * \n"
     ]
    }
   ],
   "source": [
    "for i in range(5):\n",
    "    for j in range(i+1):\n",
    "        print('*',end =\" \")\n",
    "    print(end='\\n')\n"
   ]
  },
  {
   "cell_type": "code",
   "execution_count": 3,
   "id": "c0589bc8",
   "metadata": {},
   "outputs": [
    {
     "name": "stdout",
     "output_type": "stream",
     "text": [
      "1 \n",
      "1 2 \n",
      "1 2 3 \n",
      "1 2 3 4 \n",
      "1 2 3 4 5 \n"
     ]
    }
   ],
   "source": [
    "for i in range(5):\n",
    "    for j in range(i+1):\n",
    "        print(j+1,end =\" \")\n",
    "    print(end='\\n')"
   ]
  },
  {
   "cell_type": "code",
   "execution_count": 4,
   "id": "722dcea4",
   "metadata": {
    "scrolled": true
   },
   "outputs": [
    {
     "name": "stdout",
     "output_type": "stream",
     "text": [
      "* * * * * \n",
      "* * * * \n",
      "* * * \n",
      "* * \n",
      "* \n"
     ]
    }
   ],
   "source": [
    "for i in range(5):\n",
    "    for j in range(5-i):\n",
    "        print('*',end =\" \")\n",
    "    print(end='\\n')"
   ]
  },
  {
   "cell_type": "code",
   "execution_count": 5,
   "id": "c2a5c001",
   "metadata": {},
   "outputs": [
    {
     "name": "stdout",
     "output_type": "stream",
     "text": [
      "1 2 3 4 5 \n",
      "1 2 3 4 \n",
      "1 2 3 \n",
      "1 2 \n",
      "1 \n"
     ]
    }
   ],
   "source": [
    "for i in range(5):\n",
    "    for j in range(5-i):\n",
    "        print(j+1,end =\" \")\n",
    "    print(end='\\n')"
   ]
  },
  {
   "cell_type": "code",
   "execution_count": 6,
   "id": "9c21e2b6",
   "metadata": {},
   "outputs": [
    {
     "name": "stdout",
     "output_type": "stream",
     "text": [
      "- - - - - - - - - * - - - - - - - - - \n",
      "- - - - - - - - * * * - - - - - - - - \n",
      "- - - - - - - * * * * * - - - - - - - \n",
      "- - - - - - * * * * * * * - - - - - - \n",
      "- - - - - * * * * * * * * * - - - - - \n",
      "- - - - * * * * * * * * * * * - - - - \n",
      "- - - * * * * * * * * * * * * * - - - \n",
      "- - * * * * * * * * * * * * * * * - - \n",
      "- * * * * * * * * * * * * * * * * * - \n",
      "* * * * * * * * * * * * * * * * * * * \n"
     ]
    }
   ],
   "source": [
    "n=10\n",
    "for i in range(n):\n",
    "    for j in range(n-i-1):\n",
    "        print(\"-\",end =\" \")\n",
    "        \n",
    "    for j in range(2*i+1):\n",
    "        print(\"*\",end =\" \")\n",
    "        \n",
    "    for j in range(n-i-1):\n",
    "        print(\"-\",end =\" \")\n",
    "\n",
    "    print(end='\\n')"
   ]
  },
  {
   "cell_type": "code",
   "execution_count": 7,
   "id": "c7cd924f",
   "metadata": {},
   "outputs": [
    {
     "name": "stdout",
     "output_type": "stream",
     "text": [
      "* * * * * * * * * * * * * * * * * * * \n",
      "  * * * * * * * * * * * * * * * * *   \n",
      "    * * * * * * * * * * * * * * *     \n",
      "      * * * * * * * * * * * * *       \n",
      "        * * * * * * * * * * *         \n",
      "          * * * * * * * * *           \n",
      "            * * * * * * *             \n",
      "              * * * * *               \n",
      "                * * *                 \n",
      "                  *                   \n"
     ]
    }
   ],
   "source": [
    "n=10\n",
    "for i in range(n):\n",
    "    for j in range(i):\n",
    "        print(\" \",end =\" \")\n",
    "        \n",
    "    for j in range(2*n-2*i-1):\n",
    "        print(\"*\",end =\" \")\n",
    "        \n",
    "    for j in range(i):\n",
    "        print(\" \",end =\" \")\n",
    "\n",
    "    print(end='\\n')"
   ]
  },
  {
   "cell_type": "code",
   "execution_count": 8,
   "id": "7dec546f",
   "metadata": {
    "scrolled": true
   },
   "outputs": [
    {
     "name": "stdout",
     "output_type": "stream",
     "text": [
      "# # # # * # # # # \n",
      "# # # * * * # # # \n",
      "# # * * * * * # # \n",
      "# * * * * * * * # \n",
      "* * * * * * * * * \n",
      "* * * * * * * * * \n",
      "# * * * * * * * # \n",
      "# # * * * * * # # \n",
      "# # # * * * # # # \n",
      "# # # # * # # # # \n"
     ]
    }
   ],
   "source": [
    "n=5\n",
    "for i in range(n):\n",
    "    for j in range(n-i-1):\n",
    "        print(\"#\",end =\" \")\n",
    "        \n",
    "    for j in range(2*i+1):\n",
    "        print(\"*\",end =\" \")\n",
    "        \n",
    "    for j in range(n-i-1):\n",
    "        print(\"#\",end =\" \")\n",
    "\n",
    "    print(end='\\n')\n",
    "for i in range(n):\n",
    "    for j in range(i):\n",
    "        print(\"#\",end =\" \")\n",
    "        \n",
    "    for j in range(2*n-2*i-1):\n",
    "        print(\"*\",end =\" \")\n",
    "        \n",
    "    for j in range(i):\n",
    "        print(\"#\",end =\" \")\n",
    "\n",
    "    print(end='\\n')\n",
    "    "
   ]
  },
  {
   "cell_type": "code",
   "execution_count": 9,
   "id": "dd765530",
   "metadata": {},
   "outputs": [
    {
     "name": "stdout",
     "output_type": "stream",
     "text": [
      "* \n",
      "* * \n",
      "* * * \n",
      "* * * * \n",
      "* * * * * \n",
      "* * * * \n",
      "* * * \n",
      "* * \n",
      "* \n"
     ]
    }
   ],
   "source": [
    "n = 5\n",
    "\n",
    "for i in range(1,2*n):\n",
    "    start = i\n",
    "    if i > n:\n",
    "        start = 2*n-i\n",
    "    for j in range(start):\n",
    "        print('*',end =\" \")\n",
    "    print(end = \"\\n\")"
   ]
  },
  {
   "cell_type": "code",
   "execution_count": 10,
   "id": "65e886dc",
   "metadata": {},
   "outputs": [
    {
     "name": "stdout",
     "output_type": "stream",
     "text": [
      "1 \n",
      "0 1 \n",
      "1 0 1 \n",
      "0 1 0 1 \n",
      "1 0 1 0 1 \n"
     ]
    }
   ],
   "source": [
    "n = 5\n",
    "start = 1\n",
    "for i in range(1,n+1):\n",
    "    if i%2 == 1:\n",
    "        start = 1\n",
    "    else: \n",
    "        start = 0\n",
    "    for j in range(i):\n",
    "        print(start,end=\" \")\n",
    "        start = 1 -start\n",
    "    print(end = \"\\n\")"
   ]
  },
  {
   "cell_type": "code",
   "execution_count": 11,
   "id": "6e02f635",
   "metadata": {},
   "outputs": [
    {
     "name": "stdout",
     "output_type": "stream",
     "text": [
      "1             1 \n",
      "1 2         2 1 \n",
      "1 2 3     3 2 1 \n",
      "1 2 3 4 4 3 2 1 \n"
     ]
    }
   ],
   "source": [
    "n = 4\n",
    "for i in range(1,n+1):\n",
    "    for j in range(1,i+1):\n",
    "        print(j,end=\" \")\n",
    "    for j in range(2*n-2*i):\n",
    "        print(' ',end=\" \")\n",
    "    for j in range(i,0,-1):\n",
    "        print(j,end = \" \")\n",
    "    print(end='\\n')"
   ]
  },
  {
   "cell_type": "code",
   "execution_count": 12,
   "id": "26a5df49",
   "metadata": {},
   "outputs": [
    {
     "name": "stdout",
     "output_type": "stream",
     "text": [
      "1 \n",
      "2 3 \n",
      "4 5 6 \n",
      "7 8 9 10 \n",
      "11 12 13 14 15 \n"
     ]
    }
   ],
   "source": [
    "start =1 \n",
    "n = 5\n",
    "for i in range(1,n+1):\n",
    "    for j in range(i):\n",
    "        print(start,end=\" \")\n",
    "        start+=1\n",
    "    print(end = '\\n')"
   ]
  },
  {
   "cell_type": "code",
   "execution_count": 13,
   "id": "abf9e643",
   "metadata": {},
   "outputs": [
    {
     "name": "stdout",
     "output_type": "stream",
     "text": [
      "A \n",
      "A B \n",
      "A B C \n",
      "A B C D \n",
      "A B C D E \n"
     ]
    }
   ],
   "source": [
    "n = 5\n",
    "for i in range(1,n+1):\n",
    "    start =65\n",
    "    for j in range(i):\n",
    "        print(chr(start),end=\" \")\n",
    "        start+=1\n",
    "    print(end = '\\n')\n"
   ]
  },
  {
   "cell_type": "code",
   "execution_count": 14,
   "id": "c63ee2d3",
   "metadata": {},
   "outputs": [
    {
     "name": "stdout",
     "output_type": "stream",
     "text": [
      "A B C D E \n",
      "A B C D \n",
      "A B C \n",
      "A B \n",
      "A \n"
     ]
    }
   ],
   "source": [
    "n = 5\n",
    "for i in range(1,n+1):\n",
    "    start =65\n",
    "    for j in range(n-i+1):\n",
    "        print(chr(start),end=\" \")\n",
    "        start+=1\n",
    "    print(end = '\\n')"
   ]
  },
  {
   "cell_type": "code",
   "execution_count": 15,
   "id": "48f3c030",
   "metadata": {},
   "outputs": [
    {
     "name": "stdout",
     "output_type": "stream",
     "text": [
      "A \n",
      "B B \n",
      "C C C \n",
      "D D D D \n",
      "E E E E E \n"
     ]
    }
   ],
   "source": [
    "n = 5\n",
    "start =64\n",
    "for i in range(1,n+1):\n",
    "    for j in range(i):\n",
    "        print(chr(start+i),end=\" \")\n",
    "    print(end = '\\n')"
   ]
  },
  {
   "cell_type": "code",
   "execution_count": 16,
   "id": "bb950914",
   "metadata": {},
   "outputs": [
    {
     "name": "stdout",
     "output_type": "stream",
     "text": [
      "- - - - - - - - - A - - - - - - - - - \n",
      "- - - - - - - - A B A - - - - - - - - \n",
      "- - - - - - - A B C B A - - - - - - - \n",
      "- - - - - - A B C D C B A - - - - - - \n",
      "- - - - - A B C D E D C B A - - - - - \n",
      "- - - - A B C D E F E D C B A - - - - \n",
      "- - - A B C D E F G F E D C B A - - - \n",
      "- - A B C D E F G H G F E D C B A - - \n",
      "- A B C D E F G H I H G F E D C B A - \n",
      "A B C D E F G H I J I H G F E D C B A \n"
     ]
    }
   ],
   "source": [
    "n = 10\n",
    "for i in range(n):\n",
    "    start = 64\n",
    "    for j in range(n-i-1):\n",
    "        print('-',end=\" \")\n",
    "        \n",
    "    for j in range(2*i+1):\n",
    "        if j > (2*i+1)/2:\n",
    "            start=start-1\n",
    "            print(chr(start),end=\" \")\n",
    "        else: \n",
    "            start +=1\n",
    "            print(chr(start),end=\" \")\n",
    "        \n",
    "    for j in range(n-i-1):\n",
    "        print('-',end=\" \")\n",
    "    print(end='\\n')\n"
   ]
  },
  {
   "cell_type": "code",
   "execution_count": 17,
   "id": "f1d983f4",
   "metadata": {},
   "outputs": [
    {
     "name": "stdout",
     "output_type": "stream",
     "text": [
      "E \n",
      "D E \n",
      "C D E \n",
      "B C D E \n",
      "A B C D E \n"
     ]
    }
   ],
   "source": [
    "n = 5\n",
    "for i in range(1,n+1):\n",
    "    start = 65\n",
    "    for j in range(i,0,-1):\n",
    "        print(chr(start-j+n),end = \" \")\n",
    "    print(end='\\n')"
   ]
  },
  {
   "cell_type": "code",
   "execution_count": 18,
   "id": "9bba1f55",
   "metadata": {},
   "outputs": [
    {
     "name": "stdout",
     "output_type": "stream",
     "text": [
      "* * * * * * * * * * \n",
      "* * * *     * * * * \n",
      "* * *         * * * \n",
      "* *             * * \n",
      "*                 * \n",
      "*                 * \n",
      "* *             * * \n",
      "* * *         * * * \n",
      "* * * *     * * * * \n",
      "* * * * * * * * * * \n"
     ]
    }
   ],
   "source": [
    "for i in range(1,n+1):\n",
    "    for j in range(n-i+1):\n",
    "        print(\"*\",end=\" \")\n",
    "    for j in range(2*i-2):\n",
    "        print(\" \",end=\" \")        \n",
    "    for j in range(n-i+1):\n",
    "        print(\"*\",end=\" \")\n",
    "    print(end='\\n')\n",
    "for i in range(1,n+1):\n",
    "    for j in range(1,i+1):\n",
    "        print(\"*\",end=\" \")\n",
    "    for j in range(2*n-2*i):\n",
    "        print(' ',end=\" \")\n",
    "    for j in range(i,0,-1):\n",
    "        print(\"*\",end = \" \")\n",
    "    print(end='\\n')"
   ]
  },
  {
   "cell_type": "code",
   "execution_count": 19,
   "id": "f4bbc2a5",
   "metadata": {},
   "outputs": [
    {
     "name": "stdout",
     "output_type": "stream",
     "text": [
      "*                 * \n",
      "* *             * * \n",
      "* * *         * * * \n",
      "* * * *     * * * * \n",
      "* * * * * * * * * * \n",
      "* * * *     * * * * \n",
      "* * *         * * * \n",
      "* *             * * \n",
      "*                 * \n"
     ]
    }
   ],
   "source": [
    "n = 5\n",
    "\n",
    "for i in range(1,2*n):\n",
    "    start = i\n",
    "    if i > n:\n",
    "        start = 2*n-i\n",
    "    for j in range(start):\n",
    "        print('*',end =\" \")\n",
    "\n",
    "    start = 2*n-2*i\n",
    "    if i > n:\n",
    "        start = 2*i-2*n\n",
    "    for j in range(start):\n",
    "        print(' ',end =\" \")\n",
    "\n",
    "    start = i\n",
    "    if i > n:\n",
    "        start = 2*n-i\n",
    "    for j in range(start):\n",
    "        print('*',end =\" \")\n",
    "\n",
    "    print(end = \"\\n\")"
   ]
  },
  {
   "cell_type": "code",
   "execution_count": 12,
   "id": "5f46efbc",
   "metadata": {},
   "outputs": [
    {
     "name": "stdout",
     "output_type": "stream",
     "text": [
      "[[], [], [], [], [], [], [], [], [], []]\n"
     ]
    }
   ],
   "source": [
    "hashTable = [[] for _ in range(10)] \n",
    "\n",
    "print(HashTable)"
   ]
  },
  {
   "cell_type": "code",
   "execution_count": 13,
   "id": "874555b9",
   "metadata": {},
   "outputs": [
    {
     "name": "stdout",
     "output_type": "stream",
     "text": [
      "0 1 2 3 4 5 6 7 8 9 "
     ]
    }
   ],
   "source": [
    "for i in range(len(hashTable)): \n",
    "        print(i, end = \" \") "
   ]
  },
  {
   "cell_type": "code",
   "execution_count": null,
   "id": "006ac7a6",
   "metadata": {},
   "outputs": [],
   "source": []
  }
 ],
 "metadata": {
  "kernelspec": {
   "display_name": "Python 3 (ipykernel)",
   "language": "python",
   "name": "python3"
  },
  "language_info": {
   "codemirror_mode": {
    "name": "ipython",
    "version": 3
   },
   "file_extension": ".py",
   "mimetype": "text/x-python",
   "name": "python",
   "nbconvert_exporter": "python",
   "pygments_lexer": "ipython3",
   "version": "3.9.12"
  }
 },
 "nbformat": 4,
 "nbformat_minor": 5
}
